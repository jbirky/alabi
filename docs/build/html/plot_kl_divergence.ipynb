{
 "cells": [
  {
   "cell_type": "markdown",
   "id": "20778463",
   "metadata": {},
   "source": [
    "## KL Divergence: Gaussian\n",
    "\n",
    "In this example we show how the KL divergence of the surrogate model improves as a function of iteration."
   ]
  },
  {
   "cell_type": "code",
   "execution_count": 1,
   "id": "98cd9606",
   "metadata": {},
   "outputs": [],
   "source": [
    "import alabi\n",
    "from alabi.core import SurrogateModel\n",
    "from alabi import benchmarks as bm\n",
    "from alabi import metrics\n",
    "import numpy as np\n",
    "import matplotlib.pyplot as plt\n",
    "import multiprocessing as mp\n",
    "from functools import partial\n",
    "from scipy.stats import multivariate_normal"
   ]
  },
  {
   "cell_type": "markdown",
   "id": "ce78fb18",
   "metadata": {},
   "source": [
    "We will check how the GP converges on a 4-dimensional Gaussian after 10, 20, 30... iterations"
   ]
  },
  {
   "cell_type": "code",
   "execution_count": 11,
   "id": "d603d220",
   "metadata": {},
   "outputs": [
    {
     "name": "stdout",
     "output_type": "stream",
     "text": [
      "mean: [0. 0. 0. 0.]\n",
      "cov: [[ 0.44158713 -0.07856504  0.22354773 -0.40385537]\n",
      " [-0.07856504  0.50982271 -0.4032349   0.5080006 ]\n",
      " [ 0.22354773 -0.4032349   1.32856388 -0.85113813]\n",
      " [-0.40385537  0.5080006  -0.85113813  1.27353841]]\n"
     ]
    }
   ],
   "source": [
    "ncore = 4\n",
    "ndim = 4\n",
    "ntrain = 10 # number of initial training samples\n",
    "nbatch = 5 # number of active learning iterations * 100\n",
    "niter_per_batch = 10 # number of iterations per batch\n",
    "\n",
    "# Define the multivariate normal likelihood function\n",
    "mean = np.zeros(ndim)\n",
    "cov = bm.random_gaussian_covariance(ndim)\n",
    "lnlike = partial(multivariate_normal.logpdf, mean=mean, cov=cov)\n",
    "\n",
    "print(\"mean:\", mean)\n",
    "print(\"cov:\", cov)"
   ]
  },
  {
   "cell_type": "markdown",
   "id": "0fa5a69e",
   "metadata": {},
   "source": [
    "### Define `alabi` settings and run function"
   ]
  },
  {
   "cell_type": "code",
   "execution_count": null,
   "id": "8ab25337",
   "metadata": {},
   "outputs": [],
   "source": [
    "gp_kwargs = {\"kernel\": \"ExpSquaredKernel\", \n",
    "             \"fit_amp\": True, \n",
    "             \"fit_mean\": True, \n",
    "             \"fit_white_noise\": False, \n",
    "             \"white_noise\": -12,\n",
    "             \"gp_opt_method\": \"l-bfgs-b\",\n",
    "             \"gp_scale_rng\": [-2,2],\n",
    "             \"optimizer_kwargs\": {\"max_iter\": 50, \"xatol\": 1e-4, \"fatol\": 1e-3, \"adaptive\": True}}\n",
    "\n",
    "al_kwargs={\"algorithm\": \"bape\", \n",
    "           \"gp_opt_freq\": 10, \n",
    "           \"obj_opt_method\": \"nelder-mead\", \n",
    "           \"nopt\": 1,\n",
    "           \"optimizer_kwargs\": {\"max_iter\": 50, \"xatol\": 1e-3, \"fatol\": 1e-2, \"adaptive\": True}}\n",
    "\n",
    "gp_opt_method = gp_kwargs[\"gp_opt_method\"]\n",
    "obj_opt_method = al_kwargs[\"obj_opt_method\"]\n",
    "save_base = f\"convergence_results\"\n",
    "\n",
    "\n",
    "def run_alabi(ndim, with_mcmc=True):\n",
    "    \n",
    "    savedir = f\"{save_base}/multivariate_normal_{ndim}d/\"\n",
    "\n",
    "    dynesty_sampler_kwargs = {\"bound\": \"single\",\n",
    "                              \"nlive\": 50*ndim,\n",
    "                              \"sample\": \"auto\"}\n",
    "    \n",
    "    dynesty_run_kwargs = {\"wt_kwargs\": {'pfrac': 1.0},\n",
    "                          \"stop_kwargs\": {'pfrac': 1.0},\n",
    "                          \"maxiter\": int(2e4),\n",
    "                          \"dlogz_init\": 0.5}\n",
    "\n",
    "    # Train surrogate model\n",
    "    sm = SurrogateModel(lnlike_fn=lnlike,\n",
    "                        bounds=[(-3., 3.) for _ in range(ndim)],\n",
    "                        savedir=savedir,\n",
    "                        cache=True,\n",
    "                        verbose=True,\n",
    "                        ncore=ncore)\n",
    "\n",
    "    # Initialize surrogate model \n",
    "    sm.init_samples(ntrain=ntrain, reload=False, sampler=\"sobol\")\n",
    "\n",
    "    sm.init_gp(**gp_kwargs)\n",
    "\n",
    "    if not with_mcmc:\n",
    "        # Active training on surrogate model\n",
    "        sm.active_train(niter=int(nbatch*niter_per_batch), **al_kwargs)\n",
    "\n",
    "    else:\n",
    "        for _ in range(nbatch):\n",
    "            # Active training on surrogate model\n",
    "            sm.active_train(niter=niter_per_batch, **al_kwargs)\n",
    "\n",
    "            # Run MCMC on surrogate likelihood function\n",
    "            sm.run_dynesty(like_fn=sm.surrogate_log_likelihood, \n",
    "                           sampler_kwargs=dynesty_sampler_kwargs,\n",
    "                           run_kwargs=dynesty_run_kwargs)\n",
    "\n",
    "    return sm"
   ]
  },
  {
   "cell_type": "code",
   "execution_count": null,
   "id": "82ac080e",
   "metadata": {},
   "outputs": [],
   "source": [
    "sm = run_alabi(ndim, with_mcmc=True)"
   ]
  },
  {
   "cell_type": "markdown",
   "id": "5c2f9d50",
   "metadata": {},
   "source": [
    "### Measure convergence using KL divergence metric\n",
    "\n",
    "Compute the KL divergence between the surrogate model Gaussian ($P$) and the true Gaussian ($Q$) using the means and covariances:\n",
    "\n",
    "$$ D_{\\rm KL}(P \\Vert Q) = \n",
    "     \\frac{1}{2} \\left[ \\log \\frac{\\vert K_2 \\vert}{\\vert K_1 \\vert} \n",
    "        + \\mu^T K_2^{-1} \\mu \n",
    "        + \\mathrm{tr} \\left(K_2^{-1} K_1\\right) - k\n",
    "    \\right] $$\n",
    "where $K_1$ is the covariance matrix of $P$, $K_2$ is the covariance matrix of $Q$, and $\\mu = \\mu_1 - \\mu_2$ is the difference in the mean of $P$ and $Q$.\n",
    "\n",
    "If $D_{\\rm KL}(P \\Vert Q) = 0$, then the two distributions are identical, whereas a larger KL divergence value indicates greater divergence."
   ]
  },
  {
   "cell_type": "code",
   "execution_count": 17,
   "id": "d75c01a1",
   "metadata": {},
   "outputs": [],
   "source": [
    "batches = np.arange(ntrain, int(nbatch * niter_per_batch)+1, niter_per_batch)\n",
    "metric = alabi.metrics.kl_divergence_gaussian\n",
    "savedir = f\"{save_base}/multivariate_normal_{ndim}d/\"\n",
    "\n",
    "kl_divergence = []\n",
    "for it in batches:\n",
    "    dynesty_samples_model = np.load(f\"{savedir}dynesty_samples_final_surrogate_iter_{it}.npz\")[\"samples\"]\n",
    "\n",
    "    kl_div = metrics.kl_divergence_gaussian(mean, cov, dynesty_samples_model.mean(axis=0), np.cov(dynesty_samples_model, rowvar=False))\n",
    "    kl_divergence.append(kl_div)"
   ]
  },
  {
   "cell_type": "markdown",
   "id": "be62f308",
   "metadata": {},
   "source": [
    "Plot KL divergence vs. iteration. For this 4D Gaussian example it takes roughly ~30 active learning iterations for the surrogate model to converge."
   ]
  },
  {
   "cell_type": "code",
   "execution_count": 19,
   "id": "8ab465c2",
   "metadata": {},
   "outputs": [
    {
     "data": {
      "image/png": "[encoded data removed]",
      "text/plain": [
       "<Figure size 640x480 with 1 Axes>"
      ]
     },
     "metadata": {},
     "output_type": "display_data"
    }
   ],
   "source": [
    "plt.plot(batches, kl_divergence, marker='o')\n",
    "plt.xlabel(\"Active Learning Iteration\", fontsize=18)\n",
    "plt.ylabel(\"KL Divergence\", fontsize=18)\n",
    "plt.show()"
   ]
  }
 ],
 "metadata": {
  "kernelspec": {
   "display_name": "py310",
   "language": "python",
   "name": "python3"
  },
  "language_info": {
   "codemirror_mode": {
    "name": "ipython",
    "version": 3
   },
   "file_extension": ".py",
   "mimetype": "text/x-python",
   "name": "python",
   "nbconvert_exporter": "python",
   "pygments_lexer": "ipython3",
   "version": "3.10.16"
  }
 },
 "nbformat": 4,
 "nbformat_minor": 5
}
