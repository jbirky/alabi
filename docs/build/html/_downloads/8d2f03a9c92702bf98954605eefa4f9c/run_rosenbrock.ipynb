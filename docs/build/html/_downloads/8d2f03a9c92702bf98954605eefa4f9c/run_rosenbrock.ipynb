{
  "cells": [
    {
      "cell_type": "code",
      "execution_count": null,
      "metadata": {
        "collapsed": false
      },
      "outputs": [],
      "source": [
        "%matplotlib inline"
      ]
    },
    {
      "cell_type": "markdown",
      "metadata": {},
      "source": [
        "\n# Rosenbrock (2D)\n"
      ]
    },
    {
      "cell_type": "markdown",
      "metadata": {},
      "source": [
        "## Initialize training function\n\n"
      ]
    },
    {
      "cell_type": "code",
      "execution_count": null,
      "metadata": {
        "collapsed": false
      },
      "outputs": [],
      "source": [
        "from alabi.core import SurrogateModel\nfrom alabi.benchmarks import rosenbrock\nimport alabi.visualization as vis\n\nkernel = \"ExpSquaredKernel\"\nbenchmark = \"rosenbrock\"\n\nvis.plot_true_fit_2D(eval(benchmark)[\"fn\"], eval(benchmark)[\"bounds\"], \n                     savedir=f\"results/{benchmark}\")"
      ]
    },
    {
      "cell_type": "markdown",
      "metadata": {},
      "source": [
        ".. admonition:: results/rosenbrock/true_function_2D.png\n   :class: dropdown, tip\n\n   .. image:: https://github.com/jbirky/alabi/tree/main/docs/examples/results/rosenbrock/true_function_2D.png\n\n"
      ]
    },
    {
      "cell_type": "markdown",
      "metadata": {},
      "source": [
        "## Initialize GP surrogate model\n\n"
      ]
    },
    {
      "cell_type": "code",
      "execution_count": null,
      "metadata": {
        "collapsed": false
      },
      "outputs": [],
      "source": [
        "sm = SurrogateModel(fn=eval(benchmark)[\"fn\"], \n                    bounds=eval(benchmark)[\"bounds\"], \n                    savedir=f\"results/{benchmark}/{kernel}\")"
      ]
    },
    {
      "cell_type": "markdown",
      "metadata": {},
      "source": [
        "## Train GP surrogate model\n\n"
      ]
    },
    {
      "cell_type": "code",
      "execution_count": null,
      "metadata": {
        "collapsed": false
      },
      "outputs": [],
      "source": [
        "sm.init_samples(ntrain=50, ntest=50)\nsm.init_gp(kernel=kernel, fit_amp=True, fit_mean=True, white_noise=None)\nsm.active_train(niter=100, algorithm=\"bape\", gp_opt_freq=20)"
      ]
    },
    {
      "cell_type": "markdown",
      "metadata": {},
      "source": [
        "## Plot GP diagnostics\n\n"
      ]
    },
    {
      "cell_type": "code",
      "execution_count": null,
      "metadata": {
        "collapsed": false
      },
      "outputs": [],
      "source": [
        "sm.plot(plots=[\"gp_error\", \"gp_hyperparam\", \"gp_timing\", \"gp_fit_2D\"])"
      ]
    },
    {
      "cell_type": "markdown",
      "metadata": {},
      "source": [
        ".. admonition:: results/rosenbrock/ExpSquaredKernel/gp_error_vs_iteration.png\n   :class: dropdown, tip\n\n   .. image:: https://github.com/jbirky/alabi/tree/main/docs/examples/results/rosenbrock/ExpSquaredKernel/gp_error_vs_iteration.png\n\n"
      ]
    },
    {
      "cell_type": "markdown",
      "metadata": {},
      "source": [
        ".. admonition:: results/rosenbrock/ExpSquaredKernel/gp_hyperparameters_vs_iteration.png\n   :class: dropdown, tip\n\n   .. image:: https://github.com/jbirky/alabi/tree/main/docs/examples/results/rosenbrock/ExpSquaredKernel/gp_hyperparameters_vs_iteration.png\n\n"
      ]
    },
    {
      "cell_type": "markdown",
      "metadata": {},
      "source": [
        ".. admonition:: results/rosenbrock/ExpSquaredKernel/gp_train_time_vs_iteration.png\n   :class: dropdown, tip\n\n   .. image:: https://github.com/jbirky/alabi/tree/main/docs/examples/results/rosenbrock/ExpSquaredKernel/gp_train_time_vs_iteration.png\n\n"
      ]
    },
    {
      "cell_type": "markdown",
      "metadata": {},
      "source": [
        ".. admonition:: results/rosenbrock/ExpSquaredKernel/gp_fit_2D.png\n   :class: dropdown, tip\n\n   .. image:: https://github.com/jbirky/alabi/tree/main/docs/examples/results/rosenbrock/ExpSquaredKernel/gp_fit_2D.png\n\n"
      ]
    },
    {
      "cell_type": "markdown",
      "metadata": {},
      "source": [
        "## Run MCMC using ``emcee``\n\n"
      ]
    },
    {
      "cell_type": "code",
      "execution_count": null,
      "metadata": {
        "collapsed": false
      },
      "outputs": [],
      "source": [
        "sm.run_emcee(nwalkers=20, nsteps=5e4, opt_init=False)\nsm.plot(plots=[\"emcee_all\"])"
      ]
    },
    {
      "cell_type": "markdown",
      "metadata": {},
      "source": [
        ".. admonition:: results/rosenbrock/ExpSquaredKernel/emcee_posterior.png\n   :class: dropdown, tip\n\n   .. image:: https://github.com/jbirky/alabi/tree/main/docs/examples/results/rosenbrock/ExpSquaredKernel/emcee_posterior.png\n\n"
      ]
    },
    {
      "cell_type": "markdown",
      "metadata": {},
      "source": [
        "## Run MCMC using ``dynesty``\n\n"
      ]
    },
    {
      "cell_type": "code",
      "execution_count": null,
      "metadata": {
        "collapsed": false
      },
      "outputs": [],
      "source": [
        "sm.run_dynesty()\nsm.plot(plots=[\"dynesty_all\"])"
      ]
    },
    {
      "cell_type": "markdown",
      "metadata": {},
      "source": [
        ".. admonition:: results/rosenbrock/ExpSquaredKernel/dynesty_posterior.png\n   :class: dropdown, tip\n\n   .. image:: https://github.com/jbirky/alabi/tree/main/docs/examples/results/rosenbrock/ExpSquaredKernel/dynesty_posterior.png\n\n"
      ]
    }
  ],
  "metadata": {
    "kernelspec": {
      "display_name": "Python 3",
      "language": "python",
      "name": "python3"
    },
    "language_info": {
      "codemirror_mode": {
        "name": "ipython",
        "version": 3
      },
      "file_extension": ".py",
      "mimetype": "text/x-python",
      "name": "python",
      "nbconvert_exporter": "python",
      "pygments_lexer": "ipython3",
      "version": "3.7.10"
    }
  },
  "nbformat": 4,
  "nbformat_minor": 0
}