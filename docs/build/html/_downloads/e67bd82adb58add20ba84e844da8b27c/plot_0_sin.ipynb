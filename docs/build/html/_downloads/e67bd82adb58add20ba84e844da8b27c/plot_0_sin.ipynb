{
  "cells": [
    {
      "cell_type": "code",
      "execution_count": null,
      "metadata": {
        "collapsed": false
      },
      "outputs": [],
      "source": [
        "%matplotlib inline"
      ]
    },
    {
      "cell_type": "markdown",
      "metadata": {},
      "source": [
        "\n# Plotting sin\n\nThis is a general example demonstrating a Matplotlib plot output, embedded\nrST, the use of math notation and cross-linking to other examples. It would be\nuseful to compare the :download:`source Python file <plot_0_sin.py>` with the\noutput below.\n\nSource files for gallery examples should start with a triple-quoted header\ndocstring. Anything before the docstring is ignored by Sphinx-Gallery and will\nnot appear in the rendered output, nor will it be executed. This docstring\nrequires a rST header, which is used as the title of the example and\nto correctly build cross-referencing links.\n\nCode and embedded rST text blocks follow the docstring. The first block\nimmediately after the docstring is deemed a code block, by default, unless you\nspecify it to be a text block using a line of ``#``'s or ``#%%`` (see below).\nAll code blocks get executed by Sphinx-Gallery and any output, including plots\nwill be captured. Typically, code and text blocks are interspersed to provide\nnarrative explanations of what the code is doing or interpretations of code\noutput.\n\nMathematical expressions can be included as LaTeX, and will be rendered with\nMathJax. To include displayed math notation, use the directive ``.. math::``.\nTo include inline math notation use the ``$` role. For example, we are\nabout to plot the following function:\n\n\\begin{align}x \\rightarrow \\sin(x)\\end{align}\n\nHere the function :math:$\\sin` is evaluated at each point the variable\n$x$ is defined. When including LaTeX in a Python string, ensure that you\nescape the backslashes or use a `raw docstring <python:strings>`. You do\nnot need to do this in text blocks (see below).\n"
      ]
    },
    {
      "cell_type": "code",
      "execution_count": null,
      "metadata": {
        "collapsed": false
      },
      "outputs": [],
      "source": [
        "# Code source: \u00d3scar N\u00e1jera\n# License: BSD 3 clause\n\nimport numpy as np\nimport matplotlib.pyplot as plt\n\nx = np.linspace(0, 2 * np.pi, 100)\ny = np.sin(x)\n\nplt.plot(x, y)\nplt.xlabel(r'$x$')\nplt.ylabel(r'$\\sin(x)$')\nplt.savefig(\"results/sin_demo.png\")\nplt.close()"
      ]
    },
    {
      "cell_type": "markdown",
      "metadata": {},
      "source": [
        "To include embedded rST, use a line of >= 20 ``#``'s or ``#%%`` between your\nrST and your code (see `embedding_rst`). This separates your example\ninto distinct text and code blocks. You can continue writing code below the\nembedded rST text block:\n\n"
      ]
    },
    {
      "cell_type": "code",
      "execution_count": null,
      "metadata": {
        "collapsed": false
      },
      "outputs": [],
      "source": [
        "print('This example shows a sin plot!')"
      ]
    },
    {
      "cell_type": "markdown",
      "metadata": {},
      "source": [
        ".. admonition:: results/sin_demo\n   :class: dropdown, seealso\n\n   .. image:: ../../examples/results/sin_demo.png\n\n.. |docstring| replace:: \"\"\"\n\n"
      ]
    }
  ],
  "metadata": {
    "kernelspec": {
      "display_name": "Python 3",
      "language": "python",
      "name": "python3"
    },
    "language_info": {
      "codemirror_mode": {
        "name": "ipython",
        "version": 3
      },
      "file_extension": ".py",
      "mimetype": "text/x-python",
      "name": "python",
      "nbconvert_exporter": "python",
      "pygments_lexer": "ipython3",
      "version": "3.7.10"
    }
  },
  "nbformat": 4,
  "nbformat_minor": 0
}