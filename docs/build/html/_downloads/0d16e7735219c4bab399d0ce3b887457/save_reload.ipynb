{
 "cells": [
  {
   "cell_type": "markdown",
   "metadata": {},
   "source": [
    "# Saving and Reloading\n",
    "\n",
    "In this example, we show how to save and reload results with `alabi`."
   ]
  },
  {
   "cell_type": "code",
   "execution_count": 6,
   "metadata": {},
   "outputs": [],
   "source": [
    "import numpy as np\n",
    "import matplotlib.pyplot as plt\n",
    "\n",
    "import alabi\n",
    "from alabi.core import SurrogateModel\n",
    "import alabi.utility as ut"
   ]
  },
  {
   "cell_type": "code",
   "execution_count": 7,
   "metadata": {},
   "outputs": [],
   "source": [
    "def test1d_fn(theta):\n",
    "    theta = np.asarray(theta)\n",
    "    return -np.sin(3*theta) - theta**2 + 0.7*theta\n",
    "\n",
    "# domain of the function\n",
    "bounds = [(-2,3)]"
   ]
  },
  {
   "cell_type": "markdown",
   "metadata": {},
   "source": [
    "If `cache` is set to `True` when initializing the surrogate model (the default behavior), `alabi` will automatically save your results at intermediate points:\n",
    "- after initial training\n",
    "- after each hyperparameter optimization\n",
    "- after running MCMC"
   ]
  },
  {
   "cell_type": "code",
   "execution_count": 9,
   "metadata": {},
   "outputs": [
    {
     "name": "stdout",
     "output_type": "stream",
     "text": [
      "Computed 10 function evaluations: 4.0s \n",
      "\n",
      "Computed 100 function evaluations: 4.0s \n",
      "\n",
      "Initialized GP with squared exponential kernel.\n",
      "Successfully initialized GP on attempt 1\n",
      "Optimized 4 hyperparameters: (0.027s)\n",
      "Running 20 active learning iterations using bape...\n"
     ]
    },
    {
     "name": "stderr",
     "output_type": "stream",
     "text": [
      " 50%|█████     | 10/20 [00:00<00:00, 11.80it/s]"
     ]
    },
    {
     "name": "stdout",
     "output_type": "stream",
     "text": [
      "Optimized 4 hyperparameters: (0.012s)\n"
     ]
    },
    {
     "name": "stderr",
     "output_type": "stream",
     "text": [
      "100%|██████████| 20/20 [00:01<00:00, 11.60it/s]"
     ]
    },
    {
     "name": "stdout",
     "output_type": "stream",
     "text": [
      "Optimized 4 hyperparameters: (0.023s)\n",
      "Caching model to results/test1d/surrogate_model...\n"
     ]
    },
    {
     "name": "stderr",
     "output_type": "stream",
     "text": [
      "\n"
     ]
    }
   ],
   "source": [
    "sm = SurrogateModel(lnlike_fn=test1d_fn, \n",
    "                    bounds=bounds, \n",
    "                    savedir=f\"results/test1d\",\n",
    "                    theta_scaler=alabi.no_scaler,   # in this example, we won't scale inputs for training\n",
    "                    y_scaler=alabi.no_scaler,\n",
    "                    cache=True)                 # enable caching of results\n",
    "\n",
    "sm.init_samples(ntrain=10, ntest=100, sampler=\"sobol\")\n",
    "sm.init_gp(kernel=\"ExpSquaredKernel\", fit_amp=True, fit_mean=True, white_noise=-12, gp_scale_rng=[-1,1])\n",
    "sm.active_train(niter=20, algorithm=\"bape\", gp_opt_freq=10, obj_opt_method=\"nelder-mead\")"
   ]
  },
  {
   "cell_type": "markdown",
   "metadata": {},
   "source": [
    "At this point you should find several files saved in your specified save directory (`savedir`)\n",
    "\n",
    "```\n",
    "results/test1d/\n",
    "    initial_training_sample.npz  \n",
    "    surrogate_model.txt\n",
    "    surrogate_model.pkl\n",
    "```\n",
    "\n",
    "- `initial_training_sample.npz` contains the initial training samples saved to a numpy file (which is useful if you run the initial samples in parallel, but switch to sequential sampling when running the active learning chain)\n",
    "\n",
    "- `surrogate_model.txt` contains a summary of `alabi`'s configuration in a text file\n",
    "\n",
    "- `surrogate_model.pkl` contains the saved `SurrogateModel` object which can be reloaded and rerun"
   ]
  },
  {
   "cell_type": "markdown",
   "metadata": {},
   "source": [
    "### Results file after GP training\n",
    "\n",
    "**surrogate_model.txt**\n",
    "\n",
    "```\n",
    "==================================================================\n",
    "GP summary \n",
    "==================================================================\n",
    "\n",
    "Configuration: \n",
    "-------------- \n",
    "Kernel: ExpSquaredKernel \n",
    "Function bounds: [[-2  3]] \n",
    "fit mean: True \n",
    "fit amplitude: True \n",
    "fit white_noise: True \n",
    "GP white noise: -12 \n",
    "Hyperparameter bounds: [[ -3.63198075   1.15217628]\n",
    " [-15.          -9.        ]\n",
    " [  0.1         10.        ]\n",
    " [ -1.           1.        ]] \n",
    "Active learning algorithm : bape \n",
    "\n",
    "Number of total training samples: 30 \n",
    "Number of initial training samples: 10 \n",
    "Number of active training samples: 20 \n",
    "Number of test samples: 100 \n",
    "\n",
    "Results: \n",
    "-------- \n",
    "GP final hyperparameters: \n",
    "   [mean:value] \t0.22212174710423627 \n",
    "   [white_noise:value] \t-13.414108468805813 \n",
    "   [kernel:k1:log_constant] \t1.539832622117638 \n",
    "   [kernel:k2:metric:log_M_0_0] \t-0.779896563686618 \n",
    "\n",
    "Active learning train runtime (s): 1.0 \n",
    "\n",
    "Final test error (MSE): 4.4642838595549054e-06 \n",
    "```"
   ]
  },
  {
   "cell_type": "markdown",
   "metadata": {},
   "source": [
    "### Reload the surrogate model function from pickle file\n",
    "\n",
    "Load using the save directory you saved the results to:"
   ]
  },
  {
   "cell_type": "code",
   "execution_count": 16,
   "metadata": {},
   "outputs": [],
   "source": [
    "sm = alabi.load_model_cache(\"results/test1d\")  "
   ]
  },
  {
   "cell_type": "code",
   "execution_count": 17,
   "metadata": {},
   "outputs": [
    {
     "name": "stdout",
     "output_type": "stream",
     "text": [
      "Initializing dynesty with self.surrogate_log_likelihood surrogate model as likelihood.\n",
      "Initialized dynesty DynamicNestedSampler.\n",
      "Running dynesty with 50 live points on 1 cores...\n"
     ]
    },
    {
     "name": "stderr",
     "output_type": "stream",
     "text": [
      "10267it [00:25, 405.71it/s, batch: 75 | bound: 0 | nc: 1 | ncall: 36822 | eff(%): 27.876 | loglstar: -5.331 <  0.500 <  0.216 | logz: -0.774 +/-  0.027 | stop:  0.991]     "
     ]
    },
    {
     "name": "stdout",
     "output_type": "stream",
     "text": [
      "Caching model to results/test1d/surrogate_model...\n"
     ]
    },
    {
     "name": "stderr",
     "output_type": "stream",
     "text": [
      "\n"
     ]
    }
   ],
   "source": [
    "sm.run_dynesty(like_fn=sm.surrogate_log_likelihood)"
   ]
  },
  {
   "cell_type": "markdown",
   "metadata": {},
   "source": [
    "After running an MCMC sampler (with `emcee` or `dynesty`), `alabi` will update the `surrogate_model.txt` file \n",
    "\n",
    "```\n",
    "results/test1d/\n",
    "    initial_training_sample.npz  \n",
    "    surrogate_model.txt\n",
    "    surrogate_model.pkl\n",
    "    dynesty_samples_final_surrogate_iter_20.npz\n",
    "```\n",
    "\n",
    "- `dynesty_samples_final_surrogate_iter_20.npz` contains the final posterior samples computed from dynesty after n iterations"
   ]
  },
  {
   "cell_type": "markdown",
   "metadata": {},
   "source": [
    "**surrogate_model.txt** \n",
    "\n",
    "```\n",
    "==================================================================\n",
    "GP summary \n",
    "==================================================================\n",
    "\n",
    "Configuration: \n",
    "-------------- \n",
    "Kernel: ExpSquaredKernel \n",
    "Function bounds: [[-2  3]] \n",
    "fit mean: True \n",
    "fit amplitude: True \n",
    "fit white_noise: True \n",
    "GP white noise: -12 \n",
    "Hyperparameter bounds: [[ -3.63198075   1.15217628]\n",
    " [-15.          -9.        ]\n",
    " [  0.1         10.        ]\n",
    " [ -1.           1.        ]] \n",
    "Active learning algorithm : bape \n",
    "\n",
    "Number of total training samples: 30 \n",
    "Number of initial training samples: 10 \n",
    "Number of active training samples: 20 \n",
    "Number of test samples: 100 \n",
    "\n",
    "Results: \n",
    "-------- \n",
    "GP final hyperparameters: \n",
    "   [mean:value] \t-0.1412005223011758 \n",
    "   [white_noise:value] \t-12.0 \n",
    "   [kernel:k1:log_constant] \t1.7443253209346983 \n",
    "   [kernel:k2:metric:log_M_0_0] \t-0.08685227966604564 \n",
    "\n",
    "Active learning train runtime (s): 1.0 \n",
    "\n",
    "Final test error (MSE): 4.4642838595549054e-06 \n",
    "\n",
    "==================================================================\n",
    "dynesty summary \n",
    "==================================================================\n",
    "\n",
    "Configuration: \n",
    "-------------- \n",
    "Results: \n",
    "-------- \n",
    "Total weighted samples: 10362 \n",
    "\n",
    "Dynesty runtime (s): 24.0 \n",
    "\n",
    "Summary statistics: \n",
    "theta_{i} = 0.2781219235609284 +/- 0.8305605738406258 \n",
    "```"
   ]
  },
  {
   "cell_type": "markdown",
   "metadata": {},
   "source": [
    "### Saving Plots\n",
    "\n",
    "Any plots generated from `sm.plot()` will also be saved to the same savedir\n",
    "\n",
    "```\n",
    "results/test1d/\n",
    "    initial_training_sample.npz  \n",
    "    surrogate_model.txt\n",
    "    surrogate_model.pkl\n",
    "    dynesty_samples_final_surrogate_iter_20.npz\n",
    "    gp_mse_vs_iteration.png\n",
    "```"
   ]
  },
  {
   "cell_type": "code",
   "execution_count": 18,
   "metadata": {},
   "outputs": [
    {
     "name": "stdout",
     "output_type": "stream",
     "text": [
      "Plotting the gp mean squared error with 100 test samples...\n",
      "Saving to results/test1d/gp_mse_vs_iteration.png\n"
     ]
    },
    {
     "data": {
      "image/png": "[encoded data removed]",
      "text/plain": [
       "<Figure size 640x480 with 1 Axes>"
      ]
     },
     "execution_count": 18,
     "metadata": {},
     "output_type": "execute_result"
    }
   ],
   "source": [
    "sm.plot(plots=[\"test_mse\"])"
   ]
  }
 ],
 "metadata": {
  "kernelspec": {
   "display_name": "py310",
   "language": "python",
   "name": "python3"
  },
  "language_info": {
   "codemirror_mode": {
    "name": "ipython",
    "version": 3
   },
   "file_extension": ".py",
   "mimetype": "text/x-python",
   "name": "python",
   "nbconvert_exporter": "python",
   "pygments_lexer": "ipython3",
   "version": "3.10.16"
  }
 },
 "nbformat": 4,
 "nbformat_minor": 2
}
